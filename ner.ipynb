{
  "cells": [
    {
      "cell_type": "markdown",
      "metadata": {
        "id": "oJVvKPvFdaqA"
      },
      "source": [
        "# Notebook to play with [`bert-base-NER`](https://huggingface.co/dslim/bert-base-NER)"
      ]
    },
    {
      "cell_type": "code",
      "execution_count": null,
      "metadata": {
        "id": "tOBnJlURe78S"
      },
      "outputs": [],
      "source": [
        "from transformers import pipeline"
      ]
    },
    {
      "cell_type": "code",
      "execution_count": null,
      "metadata": {
        "colab": {
          "base_uri": "https://localhost:8080/"
        },
        "id": "IXHxSKJTe8he",
        "outputId": "a6bdf123-bdcd-4556-fb75-f1b5c8e0c070"
      },
      "outputs": [],
      "source": [
        "# Initialize the NER pipeline using just the model name\n",
        "ner_pipeline = pipeline(\"ner\", model=\"dslim/bert-base-NER\", aggregation_strategy=\"simple\")"
      ]
    },
    {
      "cell_type": "code",
      "execution_count": null,
      "metadata": {
        "id": "PHc6U0_Qe9oy"
      },
      "outputs": [],
      "source": [
        "# Input sentence\n",
        "sentence = \"Albert Einstein developed the theory of relativity while working at the Swiss Patent Office in Bern.\""
      ]
    },
    {
      "cell_type": "code",
      "execution_count": null,
      "metadata": {
        "id": "zHJuyYQ8e_aO"
      },
      "outputs": [],
      "source": [
        "# Perform Named Entity Recognition\n",
        "ner_results = ner_pipeline(sentence)"
      ]
    },
    {
      "cell_type": "code",
      "execution_count": null,
      "metadata": {
        "colab": {
          "base_uri": "https://localhost:8080/"
        },
        "id": "He_8MJRSfAuo",
        "outputId": "8aae296d-237d-41c7-b3f4-3ee56b704d02"
      },
      "outputs": [],
      "source": [
        "# Display the results\n",
        "for entity in ner_results:\n",
        "    print(f\"Entity: {entity['word']}, Label: {entity['entity_group']}, Score: {entity['score']:.2f}\")"
      ]
    }
  ],
  "metadata": {
    "colab": {
      "provenance": []
    },
    "kernelspec": {
      "display_name": "Python 3",
      "name": "python3"
    },
    "language_info": {
      "name": "python"
    }
  },
  "nbformat": 4,
  "nbformat_minor": 0
}
