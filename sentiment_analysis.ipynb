{
  "nbformat": 4,
  "nbformat_minor": 0,
  "metadata": {
    "colab": {
      "provenance": []
    },
    "kernelspec": {
      "name": "python3",
      "display_name": "Python 3"
    },
    "language_info": {
      "name": "python"
    }
  },
  "cells": [
    {
      "cell_type": "markdown",
      "source": [
        "# Notebook to play with [`bertweet-base-sentiment_analysis`](https://huggingface.co/finiteautomata/bertweet-base-sentiment-analysis)"
      ],
      "metadata": {
        "id": "h0JWozTufWxp"
      }
    },
    {
      "cell_type": "code",
      "source": [
        "from transformers import pipeline"
      ],
      "metadata": {
        "id": "dYK9IYCTfMDo"
      },
      "execution_count": 1,
      "outputs": []
    },
    {
      "cell_type": "code",
      "source": [
        "# Initialize the sentiment analysis pipeline using just the model name\n",
        "sentiment_pipeline = pipeline(\"sentiment-analysis\", model=\"finiteautomata/bertweet-base-sentiment-analysis\")"
      ],
      "metadata": {
        "colab": {
          "base_uri": "https://localhost:8080/"
        },
        "id": "tO9FBt0nfNMo",
        "outputId": "bcc64120-3eb2-4be3-db96-37ba45d30224"
      },
      "execution_count": 2,
      "outputs": [
        {
          "output_type": "stream",
          "name": "stderr",
          "text": [
            "/usr/local/lib/python3.11/dist-packages/huggingface_hub/utils/_auth.py:86: UserWarning: \n",
            "Access to the secret `HF_TOKEN` has not been granted on this notebook.\n",
            "You will not be requested again.\n",
            "Please restart the session if you want to be prompted again.\n",
            "  warnings.warn(\n",
            "emoji is not installed, thus not converting emoticons or emojis into text. Install emoji: pip3 install emoji==0.6.0\n",
            "Device set to use cpu\n"
          ]
        }
      ]
    },
    {
      "cell_type": "code",
      "source": [
        "# Input sentence\n",
        "sentence = \"I love the new research paper on quantum computing! The results are groundbreaking.\""
      ],
      "metadata": {
        "id": "9hT6-bwSfOkD"
      },
      "execution_count": 3,
      "outputs": []
    },
    {
      "cell_type": "code",
      "source": [
        "# Perform Sentiment Analysis\n",
        "sentiment_results = sentiment_pipeline(sentence)"
      ],
      "metadata": {
        "id": "aNt6zqByfPpN"
      },
      "execution_count": 4,
      "outputs": []
    },
    {
      "cell_type": "code",
      "source": [
        "# Display the results\n",
        "for result in sentiment_results:\n",
        "    print(f\"Sentiment: {result['label']}, Confidence Score: {result['score']:.2f}\")"
      ],
      "metadata": {
        "colab": {
          "base_uri": "https://localhost:8080/"
        },
        "id": "yLYmkUtyfQ4N",
        "outputId": "b42ddc3d-2d68-4aeb-b2b0-5eca25256678"
      },
      "execution_count": 5,
      "outputs": [
        {
          "output_type": "stream",
          "name": "stdout",
          "text": [
            "Sentiment: POS, Confidence Score: 0.99\n"
          ]
        }
      ]
    }
  ]
}