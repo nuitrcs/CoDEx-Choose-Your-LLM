{
  "cells": [
    {
      "cell_type": "markdown",
      "metadata": {
        "id": "h0JWozTufWxp"
      },
      "source": [
        "# Notebook to play with [`bertweet-base-sentiment_analysis`](https://huggingface.co/finiteautomata/bertweet-base-sentiment-analysis)"
      ]
    },
    {
      "cell_type": "code",
      "execution_count": null,
      "metadata": {
        "id": "dYK9IYCTfMDo"
      },
      "outputs": [],
      "source": [
        "from transformers import pipeline"
      ]
    },
    {
      "cell_type": "code",
      "execution_count": null,
      "metadata": {
        "colab": {
          "base_uri": "https://localhost:8080/"
        },
        "id": "tO9FBt0nfNMo",
        "outputId": "bcc64120-3eb2-4be3-db96-37ba45d30224"
      },
      "outputs": [],
      "source": [
        "# Initialize the sentiment analysis pipeline using just the model name\n",
        "sentiment_pipeline = pipeline(\"sentiment-analysis\", model=\"finiteautomata/bertweet-base-sentiment-analysis\")"
      ]
    },
    {
      "cell_type": "code",
      "execution_count": null,
      "metadata": {
        "id": "9hT6-bwSfOkD"
      },
      "outputs": [],
      "source": [
        "# Input sentence\n",
        "sentence = \"I love the new research paper on quantum computing! The results are groundbreaking.\""
      ]
    },
    {
      "cell_type": "code",
      "execution_count": null,
      "metadata": {
        "id": "aNt6zqByfPpN"
      },
      "outputs": [],
      "source": [
        "# Perform Sentiment Analysis\n",
        "sentiment_results = sentiment_pipeline(sentence)"
      ]
    },
    {
      "cell_type": "code",
      "execution_count": null,
      "metadata": {
        "colab": {
          "base_uri": "https://localhost:8080/"
        },
        "id": "yLYmkUtyfQ4N",
        "outputId": "b42ddc3d-2d68-4aeb-b2b0-5eca25256678"
      },
      "outputs": [],
      "source": [
        "# Display the results\n",
        "for result in sentiment_results:\n",
        "    print(f\"Sentiment: {result['label']}, Confidence Score: {result['score']:.2f}\")"
      ]
    }
  ],
  "metadata": {
    "colab": {
      "provenance": []
    },
    "kernelspec": {
      "display_name": "Python 3",
      "name": "python3"
    },
    "language_info": {
      "name": "python"
    }
  },
  "nbformat": 4,
  "nbformat_minor": 0
}
